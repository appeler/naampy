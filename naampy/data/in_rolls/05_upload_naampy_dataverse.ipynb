{
 "cells": [
  {
   "cell_type": "code",
   "execution_count": 1,
   "metadata": {},
   "outputs": [],
   "source": [
    "# Dataverse API Token\n",
    "# https://dataverse.harvard.edu/dataverseuser.xhtml?selectTab=apiTokenTab\n",
    "host = 'https://dataverse.harvard.edu'\n",
    "token = '<API TOKEN>'\n",
    "doi = 'doi:10.7910/DVN/WZGJBM'"
   ]
  },
  {
   "cell_type": "code",
   "execution_count": 2,
   "metadata": {},
   "outputs": [],
   "source": [
    "from pyDataverse.api import Api"
   ]
  },
  {
   "cell_type": "code",
   "execution_count": 3,
   "metadata": {},
   "outputs": [],
   "source": [
    "from pyDataverse.models import Dataverse"
   ]
  },
  {
   "cell_type": "code",
   "execution_count": 4,
   "metadata": {},
   "outputs": [
    {
     "data": {
      "text/plain": [
       "'OK'"
      ]
     },
     "execution_count": 4,
     "metadata": {},
     "output_type": "execute_result"
    }
   ],
   "source": [
    "api = Api('https://dataverse.harvard.edu/', token)\n",
    "api.status"
   ]
  },
  {
   "cell_type": "code",
   "execution_count": 5,
   "metadata": {},
   "outputs": [
    {
     "data": {
      "text/plain": [
       "{'status': 'OK',\n",
       " 'data': {'id': 4963283,\n",
       "  'identifier': 'DVN/WZGJBM',\n",
       "  'persistentUrl': 'https://doi.org/10.7910/DVN/WZGJBM',\n",
       "  'protocol': 'doi',\n",
       "  'authority': '10.7910',\n",
       "  'publisher': 'Harvard Dataverse',\n",
       "  'storageIdentifier': 's3://10.7910/DVN/WZGJBM',\n",
       "  'latestVersion': {'id': 262124,\n",
       "   'datasetId': 4963283,\n",
       "   'datasetPersistentId': 'doi:10.7910/DVN/WZGJBM',\n",
       "   'storageIdentifier': 's3://10.7910/DVN/WZGJBM',\n",
       "   'versionState': 'DRAFT',\n",
       "   'lastUpdateTime': '2021-08-08T06:20:15Z',\n",
       "   'createTime': '2021-08-08T06:20:15Z',\n",
       "   'license': 'CC0',\n",
       "   'termsOfUse': 'CC0 Waiver',\n",
       "   'fileAccessRequest': False,\n",
       "   'metadataBlocks': {'citation': {'displayName': 'Citation Metadata',\n",
       "     'fields': [{'typeName': 'title',\n",
       "       'multiple': False,\n",
       "       'typeClass': 'primitive',\n",
       "       'value': 'naampy'},\n",
       "      {'typeName': 'author',\n",
       "       'multiple': True,\n",
       "       'typeClass': 'compound',\n",
       "       'value': [{'authorName': {'typeName': 'authorName',\n",
       "          'multiple': False,\n",
       "          'typeClass': 'primitive',\n",
       "          'value': 'Sood, Gaurav'}},\n",
       "        {'authorName': {'typeName': 'authorName',\n",
       "          'multiple': False,\n",
       "          'typeClass': 'primitive',\n",
       "          'value': 'Laohaprapanon, Suriyan'}}]},\n",
       "      {'typeName': 'datasetContact',\n",
       "       'multiple': True,\n",
       "       'typeClass': 'compound',\n",
       "       'value': [{'datasetContactName': {'typeName': 'datasetContactName',\n",
       "          'multiple': False,\n",
       "          'typeClass': 'primitive',\n",
       "          'value': 'Sood, Gaurav'},\n",
       "         'datasetContactEmail': {'typeName': 'datasetContactEmail',\n",
       "          'multiple': False,\n",
       "          'typeClass': 'primitive',\n",
       "          'value': 'gsood07@gmail.com'}}]},\n",
       "      {'typeName': 'dsDescription',\n",
       "       'multiple': True,\n",
       "       'typeClass': 'compound',\n",
       "       'value': [{'dsDescriptionValue': {'typeName': 'dsDescriptionValue',\n",
       "          'multiple': False,\n",
       "          'typeClass': 'primitive',\n",
       "          'value': 'naampy data'}}]},\n",
       "      {'typeName': 'subject',\n",
       "       'multiple': True,\n",
       "       'typeClass': 'controlledVocabulary',\n",
       "       'value': ['Social Sciences']},\n",
       "      {'typeName': 'depositor',\n",
       "       'multiple': False,\n",
       "       'typeClass': 'primitive',\n",
       "       'value': 'Sood, Gaurav'},\n",
       "      {'typeName': 'dateOfDeposit',\n",
       "       'multiple': False,\n",
       "       'typeClass': 'primitive',\n",
       "       'value': '2021-08-08'}]}},\n",
       "   'files': []}}}"
      ]
     },
     "execution_count": 5,
     "metadata": {},
     "output_type": "execute_result"
    }
   ],
   "source": [
    "resp = api.get_dataset(doi)\n",
    "resp.json()"
   ]
  },
  {
   "cell_type": "code",
   "execution_count": 7,
   "metadata": {},
   "outputs": [
    {
     "name": "stdout",
     "output_type": "stream",
     "text": [
      "{'status': 'OK', 'data': {'files': [{'description': '', 'label': 'in_rolls_state_year_fn_naampy_x1k.csv.gz', 'restricted': False, 'version': 1, 'datasetVersionId': 262124, 'dataFile': {'id': 4965695, 'persistentId': '', 'pidURL': '', 'filename': 'in_rolls_state_year_fn_naampy_x1k.csv.gz', 'contentType': 'application/gzip', 'filesize': 62406025, 'description': '', 'storageIdentifier': 's3://dvn-cloud:17b29ec97ef-4aca63c31ce3', 'rootDataFileId': -1, 'md5': '822fa00e3f54ac606b6e578d27ef3904', 'checksum': {'type': 'MD5', 'value': '822fa00e3f54ac606b6e578d27ef3904'}, 'creationDate': '2021-08-09'}}]}}\n"
     ]
    }
   ],
   "source": [
    "fn = '/opt/data2/in_rolls/in_rolls_state_year_fn_naampy_x1k.csv.gz'\n",
    "resp = api.upload_file(doi, fn)\n",
    "print(resp)"
   ]
  },
  {
   "cell_type": "code",
   "execution_count": 8,
   "metadata": {},
   "outputs": [
    {
     "name": "stdout",
     "output_type": "stream",
     "text": [
      "{'status': 'OK', 'data': {'files': [{'description': '', 'label': 'in_rolls_state_year_fn_naampy_x100.csv.gz', 'restricted': False, 'version': 1, 'datasetVersionId': 262124, 'dataFile': {'id': 4965696, 'persistentId': '', 'pidURL': '', 'filename': 'in_rolls_state_year_fn_naampy_x100.csv.gz', 'contentType': 'application/gzip', 'filesize': 122818654, 'description': '', 'storageIdentifier': 's3://dvn-cloud:17b29ecbe20-42e37d921743', 'rootDataFileId': -1, 'md5': 'eaab415eb709f2cfb3777edd292b01cf', 'checksum': {'type': 'MD5', 'value': 'eaab415eb709f2cfb3777edd292b01cf'}, 'creationDate': '2021-08-09'}}]}}\n"
     ]
    }
   ],
   "source": [
    "fn = '/opt/data2/in_rolls/in_rolls_state_year_fn_naampy_x100.csv.gz'\n",
    "resp = api.upload_file(doi, fn)\n",
    "print(resp)"
   ]
  }
 ],
 "metadata": {
  "kernelspec": {
   "display_name": "Python 3",
   "language": "python",
   "name": "python3"
  },
  "language_info": {
   "codemirror_mode": {
    "name": "ipython",
    "version": 3
   },
   "file_extension": ".py",
   "mimetype": "text/x-python",
   "name": "python",
   "nbconvert_exporter": "python",
   "pygments_lexer": "ipython3",
   "version": "3.9.5"
  }
 },
 "nbformat": 4,
 "nbformat_minor": 2
}
