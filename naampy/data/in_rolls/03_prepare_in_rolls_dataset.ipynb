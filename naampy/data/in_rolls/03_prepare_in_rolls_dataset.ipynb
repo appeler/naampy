{
 "cells": [
  {
   "cell_type": "code",
   "execution_count": 1,
   "metadata": {
    "execution": {
     "iopub.execute_input": "2021-08-03T00:06:40.652422Z",
     "iopub.status.busy": "2021-08-03T00:06:40.651906Z",
     "iopub.status.idle": "2021-08-03T00:06:43.320600Z",
     "shell.execute_reply": "2021-08-03T00:06:43.320110Z"
    }
   },
   "outputs": [],
   "source": [
    "import pandas as pd\n",
    "import gc"
   ]
  },
  {
   "cell_type": "code",
   "execution_count": 2,
   "metadata": {
    "execution": {
     "iopub.execute_input": "2021-08-03T00:06:43.323694Z",
     "iopub.status.busy": "2021-08-03T00:06:43.323239Z",
     "iopub.status.idle": "2021-08-03T00:06:43.326294Z",
     "shell.execute_reply": "2021-08-03T00:06:43.325704Z"
    }
   },
   "outputs": [],
   "source": [
    "# it's okay for 16GB memory\n",
    "CHUNK_SIZE = 10000000"
   ]
  },
  {
   "cell_type": "code",
   "execution_count": 3,
   "metadata": {
    "execution": {
     "iopub.execute_input": "2021-08-03T00:06:43.334303Z",
     "iopub.status.busy": "2021-08-03T00:06:43.333814Z",
     "iopub.status.idle": "2021-08-03T02:16:13.516111Z",
     "shell.execute_reply": "2021-08-03T02:16:13.516481Z"
    }
   },
   "outputs": [
    {
     "name": "stderr",
     "output_type": "stream",
     "text": [
      "/home/t-9adar/.conda/envs/env38/lib/python3.8/site-packages/IPython/core/interactiveshell.py:3146: DtypeWarning: Columns (1) have mixed types.Specify dtype option on import or set low_memory=False.\n",
      "  has_raised = await self.run_ast_nodes(code_ast.body, cell_name,\n"
     ]
    },
    {
     "name": "stdout",
     "output_type": "stream",
     "text": [
      "1\n",
      "2\n",
      "3\n",
      "4\n",
      "5\n",
      "6\n",
      "7\n",
      "8\n",
      "9\n",
      "10\n",
      "11\n",
      "12\n",
      "13\n",
      "14\n",
      "15\n",
      "16\n",
      "17\n",
      "18\n",
      "19\n",
      "20\n",
      "21\n",
      "22\n",
      "23\n",
      "24\n",
      "25\n",
      "26\n",
      "27\n",
      "28\n",
      "29\n",
      "30\n",
      "31\n",
      "32\n",
      "33\n",
      "34\n",
      "35\n",
      "36\n",
      "37\n",
      "38\n",
      "39\n",
      "40\n",
      "41\n",
      "42\n",
      "43\n",
      "44\n",
      "45\n",
      "46\n",
      "47\n",
      "48\n",
      "49\n",
      "50\n",
      "51\n",
      "52\n",
      "53\n",
      "54\n",
      "55\n",
      "56\n",
      "57\n",
      "58\n",
      "59\n",
      "60\n"
     ]
    }
   ],
   "source": [
    "header = True\n",
    "count = 0\n",
    "for df in pd.read_csv('in_rolls_state_name_age_sex.csv.gz', chunksize=CHUNK_SIZE):\n",
    "    # Take out null elector_name and change to upper case\n",
    "    df.dropna(subset=['elector_name'], inplace=True)\n",
    "    df.elector_name = df.elector_name.str.lower()\n",
    "    # Take out null and invalid age\n",
    "    df.dropna(subset=['age'], inplace=True)\n",
    "    #df.drop(df[df.age.str.len() > 3].index, inplace=True)\n",
    "    #df.age = df.age.astype(int)\n",
    "    df.age = pd.to_numeric(df.age, errors='coerce')\n",
    "    df.drop(df[df.age > 130].index, inplace=True)\n",
    "    df['birth_year'] = 2017 - df.age\n",
    "    #df[df.age > 100].count()\n",
    "    # Take out null in sex\n",
    "    df.dropna(subset=['sex'], inplace=True)\n",
    "    # Change lower case\n",
    "    df.sex = df.sex.str.lower()\n",
    "    # when we have more than 2 words, we should use the 1st word as first name\n",
    "    # we can ignore rows where first_name < 2 characters\n",
    "    # same for where last_name < 2 characters\n",
    "    # and we can write than when we are describing the results\n",
    "    # and i suppose we need to either ignore names with just 1 word though we can assume 1 word names (not 1 character) as the first name\n",
    "    df['name_wc'] = df.elector_name.apply(lambda c: len(c.split()))\n",
    "    df['first_name'] = None\n",
    "    df['last_name'] = None\n",
    "    df.loc[df.name_wc == 1, 'first_name'] = df.elector_name\n",
    "    df.loc[df.name_wc >= 2, 'first_name'] = df.elector_name.apply(lambda c: c.split()[0])\n",
    "    df.loc[df.name_wc >= 2, 'last_name'] = df.elector_name.apply(lambda c: c.split()[-1])\n",
    "\n",
    "    df.loc[df.first_name.notnull() & (df.first_name.str.len() <= 2), 'first_name'] = None\n",
    "    df.loc[df.last_name.notnull() & (df.last_name.str.len() <= 2), 'last_name'] = None\n",
    "    del df['name_wc']\n",
    "\n",
    "    #df[df.first_name.isnull()]\n",
    "    #df[df.last_name.isnull()]\n",
    "\n",
    "    df.to_csv('in_rolls_state_name_age_sex_fn_ln.csv.gz', mode='a', header=header, index=False, compression='gzip')\n",
    "    header = False\n",
    "    del df\n",
    "    gc.collect()\n",
    "    count += 1\n",
    "    print(count)\n",
    "    #break\n"
   ]
  },
  {
   "cell_type": "code",
   "execution_count": null,
   "metadata": {},
   "outputs": [],
   "source": [
    "# Resource List: procs=2,mem=16gb\n",
    "# Resources Used: cput=02:09:36,vmem=6487812kb,walltime=02:09:45,mem=13009344kb,energy_used=0"
   ]
  }
 ],
 "metadata": {
  "kernelspec": {
   "display_name": "Python 3",
   "language": "python",
   "name": "python3"
  },
  "language_info": {
   "codemirror_mode": {
    "name": "ipython",
    "version": 3
   },
   "file_extension": ".py",
   "mimetype": "text/x-python",
   "name": "python",
   "nbconvert_exporter": "python",
   "pygments_lexer": "ipython3",
   "version": "3.9.5"
  }
 },
 "nbformat": 4,
 "nbformat_minor": 2
}
