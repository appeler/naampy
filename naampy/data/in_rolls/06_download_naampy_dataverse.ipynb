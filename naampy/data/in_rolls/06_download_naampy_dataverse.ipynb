{
 "cells": [
  {
   "cell_type": "code",
   "execution_count": 1,
   "metadata": {},
   "outputs": [],
   "source": [
    "# Dataverse API Token\n",
    "# https://dataverse.harvard.edu/dataverseuser.xhtml?selectTab=apiTokenTab\n",
    "# token = '<DONT NEED FOR PUBLIC DATAVERSE>'"
   ]
  },
  {
   "cell_type": "code",
   "execution_count": 2,
   "metadata": {},
   "outputs": [],
   "source": [
    "from pyDataverse.api import Api\n",
    "from pyDataverse.models import Dataverse"
   ]
  },
  {
   "cell_type": "code",
   "execution_count": 3,
   "metadata": {},
   "outputs": [
    {
     "data": {
      "text/plain": [
       "'OK'"
      ]
     },
     "execution_count": 3,
     "metadata": {},
     "output_type": "execute_result"
    }
   ],
   "source": [
    "api = Api('https://dataverse.harvard.edu/')\n",
    "api.status"
   ]
  },
  {
   "cell_type": "code",
   "execution_count": 4,
   "metadata": {},
   "outputs": [
    {
     "data": {
      "text/plain": [
       "{'status': 'OK',\n",
       " 'data': {'id': 4963283,\n",
       "  'identifier': 'DVN/WZGJBM',\n",
       "  'persistentUrl': 'https://doi.org/10.7910/DVN/WZGJBM',\n",
       "  'protocol': 'doi',\n",
       "  'authority': '10.7910',\n",
       "  'publisher': 'Harvard Dataverse',\n",
       "  'publicationDate': '2021-08-09',\n",
       "  'storageIdentifier': 's3://10.7910/DVN/WZGJBM',\n",
       "  'latestVersion': {'id': 262124,\n",
       "   'datasetId': 4963283,\n",
       "   'datasetPersistentId': 'doi:10.7910/DVN/WZGJBM',\n",
       "   'storageIdentifier': 's3://10.7910/DVN/WZGJBM',\n",
       "   'versionNumber': 1,\n",
       "   'versionMinorNumber': 0,\n",
       "   'versionState': 'RELEASED',\n",
       "   'lastUpdateTime': '2021-08-09T13:48:28Z',\n",
       "   'releaseTime': '2021-08-09T13:48:28Z',\n",
       "   'createTime': '2021-08-08T06:20:15Z',\n",
       "   'license': 'CC0',\n",
       "   'termsOfUse': 'CC0 Waiver',\n",
       "   'fileAccessRequest': False,\n",
       "   'metadataBlocks': {'citation': {'displayName': 'Citation Metadata',\n",
       "     'fields': [{'typeName': 'title',\n",
       "       'multiple': False,\n",
       "       'typeClass': 'primitive',\n",
       "       'value': 'naampy'},\n",
       "      {'typeName': 'author',\n",
       "       'multiple': True,\n",
       "       'typeClass': 'compound',\n",
       "       'value': [{'authorName': {'typeName': 'authorName',\n",
       "          'multiple': False,\n",
       "          'typeClass': 'primitive',\n",
       "          'value': 'Sood, Gaurav'}},\n",
       "        {'authorName': {'typeName': 'authorName',\n",
       "          'multiple': False,\n",
       "          'typeClass': 'primitive',\n",
       "          'value': 'Laohaprapanon, Suriyan'}}]},\n",
       "      {'typeName': 'datasetContact',\n",
       "       'multiple': True,\n",
       "       'typeClass': 'compound',\n",
       "       'value': [{'datasetContactName': {'typeName': 'datasetContactName',\n",
       "          'multiple': False,\n",
       "          'typeClass': 'primitive',\n",
       "          'value': 'Sood, Gaurav'},\n",
       "         'datasetContactEmail': {'typeName': 'datasetContactEmail',\n",
       "          'multiple': False,\n",
       "          'typeClass': 'primitive',\n",
       "          'value': 'gsood07@gmail.com'}}]},\n",
       "      {'typeName': 'dsDescription',\n",
       "       'multiple': True,\n",
       "       'typeClass': 'compound',\n",
       "       'value': [{'dsDescriptionValue': {'typeName': 'dsDescriptionValue',\n",
       "          'multiple': False,\n",
       "          'typeClass': 'primitive',\n",
       "          'value': 'naampy data'}}]},\n",
       "      {'typeName': 'subject',\n",
       "       'multiple': True,\n",
       "       'typeClass': 'controlledVocabulary',\n",
       "       'value': ['Social Sciences']},\n",
       "      {'typeName': 'depositor',\n",
       "       'multiple': False,\n",
       "       'typeClass': 'primitive',\n",
       "       'value': 'Sood, Gaurav'},\n",
       "      {'typeName': 'dateOfDeposit',\n",
       "       'multiple': False,\n",
       "       'typeClass': 'primitive',\n",
       "       'value': '2021-08-08'}]}},\n",
       "   'files': [{'label': 'in_rolls_state_year_fn_naampy.csv.gz',\n",
       "     'restricted': False,\n",
       "     'version': 1,\n",
       "     'datasetVersionId': 262124,\n",
       "     'dataFile': {'id': 4967581,\n",
       "      'persistentId': '',\n",
       "      'pidURL': '',\n",
       "      'filename': 'in_rolls_state_year_fn_naampy.csv.gz',\n",
       "      'contentType': 'application/x-gzip',\n",
       "      'filesize': 9137489,\n",
       "      'storageIdentifier': 's3://dvn-cloud:17b2b2aeb6f-9b989fceff73',\n",
       "      'rootDataFileId': -1,\n",
       "      'md5': '4a02ceaf1db4b0eaeb1d0c76da11d499',\n",
       "      'checksum': {'type': 'MD5', 'value': '4a02ceaf1db4b0eaeb1d0c76da11d499'},\n",
       "      'creationDate': '2021-08-09'}},\n",
       "    {'description': '',\n",
       "     'label': 'in_rolls_state_year_fn_naampy_x100.csv.gz',\n",
       "     'restricted': False,\n",
       "     'version': 1,\n",
       "     'datasetVersionId': 262124,\n",
       "     'dataFile': {'id': 4965696,\n",
       "      'persistentId': '',\n",
       "      'pidURL': '',\n",
       "      'filename': 'in_rolls_state_year_fn_naampy_x100.csv.gz',\n",
       "      'contentType': 'application/gzip',\n",
       "      'filesize': 122818654,\n",
       "      'description': '',\n",
       "      'storageIdentifier': 's3://dvn-cloud:17b29ecbe20-42e37d921743',\n",
       "      'rootDataFileId': -1,\n",
       "      'md5': 'eaab415eb709f2cfb3777edd292b01cf',\n",
       "      'checksum': {'type': 'MD5', 'value': 'eaab415eb709f2cfb3777edd292b01cf'},\n",
       "      'creationDate': '2021-08-09'}},\n",
       "    {'description': '',\n",
       "     'label': 'in_rolls_state_year_fn_naampy_x1k.csv.gz',\n",
       "     'restricted': False,\n",
       "     'version': 1,\n",
       "     'datasetVersionId': 262124,\n",
       "     'dataFile': {'id': 4965695,\n",
       "      'persistentId': '',\n",
       "      'pidURL': '',\n",
       "      'filename': 'in_rolls_state_year_fn_naampy_x1k.csv.gz',\n",
       "      'contentType': 'application/gzip',\n",
       "      'filesize': 62406025,\n",
       "      'description': '',\n",
       "      'storageIdentifier': 's3://dvn-cloud:17b29ec97ef-4aca63c31ce3',\n",
       "      'rootDataFileId': -1,\n",
       "      'md5': '822fa00e3f54ac606b6e578d27ef3904',\n",
       "      'checksum': {'type': 'MD5', 'value': '822fa00e3f54ac606b6e578d27ef3904'},\n",
       "      'creationDate': '2021-08-09'}}]}}}"
      ]
     },
     "execution_count": 4,
     "metadata": {},
     "output_type": "execute_result"
    }
   ],
   "source": [
    "resp = api.get_dataset('doi:10.7910/DVN/WZGJBM')\n",
    "j = resp.json()\n",
    "j"
   ]
  },
  {
   "cell_type": "code",
   "execution_count": 5,
   "metadata": {},
   "outputs": [
    {
     "name": "stdout",
     "output_type": "stream",
     "text": [
      "4967581 in_rolls_state_year_fn_naampy.csv.gz\n",
      "4965696 in_rolls_state_year_fn_naampy_x100.csv.gz\n",
      "4965695 in_rolls_state_year_fn_naampy_x1k.csv.gz\n"
     ]
    }
   ],
   "source": [
    "files = []\n",
    "for file in j['data']['latestVersion']['files']:\n",
    "    fid = file['dataFile']['id']\n",
    "    fn = file['dataFile']['filename']\n",
    "    print(fid, fn)\n",
    "    files.append((fid, fn))"
   ]
  },
  {
   "cell_type": "code",
   "execution_count": 6,
   "metadata": {},
   "outputs": [
    {
     "data": {
      "text/plain": [
       "[(4967581, 'in_rolls_state_year_fn_naampy.csv.gz'),\n",
       " (4965696, 'in_rolls_state_year_fn_naampy_x100.csv.gz'),\n",
       " (4965695, 'in_rolls_state_year_fn_naampy_x1k.csv.gz')]"
      ]
     },
     "execution_count": 6,
     "metadata": {},
     "output_type": "execute_result"
    }
   ],
   "source": [
    "files"
   ]
  },
  {
   "cell_type": "code",
   "execution_count": 7,
   "metadata": {},
   "outputs": [],
   "source": [
    "import requests\n",
    "def download_file(url, fn):\n",
    "    local_filename = fn # url.split('/')[-1]\n",
    "    # NOTE the stream=True parameter below\n",
    "    with requests.get(url, stream=True) as r:\n",
    "        r.raise_for_status()\n",
    "        with open(local_filename, 'wb') as f:\n",
    "            for chunk in r.iter_content(chunk_size=8192): \n",
    "                if chunk: # filter out keep-alive new chunks\n",
    "                    f.write(chunk)\n",
    "                    # f.flush()\n",
    "    return local_filename"
   ]
  },
  {
   "cell_type": "code",
   "execution_count": 8,
   "metadata": {},
   "outputs": [
    {
     "name": "stdout",
     "output_type": "stream",
     "text": [
      "in_rolls_state_year_fn_naampy.csv.gz\n",
      "https://dataverse.harvard.edu/api/v1/access/datafile/4967581\n",
      "in_rolls_state_year_fn_naampy_x100.csv.gz\n",
      "https://dataverse.harvard.edu/api/v1/access/datafile/4965696\n",
      "in_rolls_state_year_fn_naampy_x1k.csv.gz\n",
      "https://dataverse.harvard.edu/api/v1/access/datafile/4965695\n"
     ]
    }
   ],
   "source": [
    "for fid, fn in files:\n",
    "    print(fn)\n",
    "    url = 'https://dataverse.harvard.edu/api/v1/access/datafile/%s' % (fid)\n",
    "    print(url)\n",
    "    #download_file(url, fn)"
   ]
  },
  {
   "cell_type": "code",
   "execution_count": null,
   "metadata": {},
   "outputs": [],
   "source": []
  }
 ],
 "metadata": {
  "kernelspec": {
   "display_name": "Python 3",
   "language": "python",
   "name": "python3"
  },
  "language_info": {
   "codemirror_mode": {
    "name": "ipython",
    "version": 3
   },
   "file_extension": ".py",
   "mimetype": "text/x-python",
   "name": "python",
   "nbconvert_exporter": "python",
   "pygments_lexer": "ipython3",
   "version": "3.9.5"
  }
 },
 "nbformat": 4,
 "nbformat_minor": 2
}
